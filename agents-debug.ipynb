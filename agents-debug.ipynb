{
 "cells": [
  {
   "cell_type": "markdown",
   "id": "13cd1c3e",
   "metadata": {},
   "source": [
    "[![Open in Colab](https://colab.research.google.com/assets/colab-badge.svg)](https://colab.research.google.com/github/langchain-ai/langchain-academy/blob/main/module-1/agent-memory.ipynb) [![Open in LangChain Academy](https://cdn.prod.website-files.com/65b8cd72835ceeacd4449a53/66e9eba12c7b7688aa3dbb5e_LCA-badge-green.svg)](https://academy.langchain.com/courses/take/intro-to-langgraph/lessons/58239417-lesson-7-agent-with-memory)"
   ]
  },
  {
   "attachments": {},
   "cell_type": "markdown",
   "id": "8c451ffd-a18b-4412-85fa-85186824dd03",
   "metadata": {},
   "source": [
    "# Agents\n",
    "\n",
    "## Review\n",
    "\n",
    "Run analyst agents"
   ]
  },
  {
   "cell_type": "code",
   "execution_count": 1,
   "id": "d2b4b45b-cbaa-41b1-b3ed-f6b0645be3f9",
   "metadata": {},
   "outputs": [],
   "source": [
    "%%capture --no-stderr\n",
    "%pip install --quiet -U langchain_openai langchain_core langgraph langgraph-prebuilt"
   ]
  },
  {
   "cell_type": "code",
   "execution_count": 3,
   "id": "2b0cfa99",
   "metadata": {},
   "outputs": [],
   "source": [
    "import os, getpass\n",
    "\n",
    "def _set_env(var: str):\n",
    "    if not os.environ.get(var):\n",
    "        os.environ[var] = getpass.getpass(f\"{var}: \")\n",
    "\n",
    "_set_env(\"OPENAI_API_KEY\")"
   ]
  },
  {
   "cell_type": "markdown",
   "id": "02eff247-a2aa-4f7a-8be1-73dfebfecc63",
   "metadata": {},
   "source": [
    "We'll use [LangSmith](https://docs.smith.langchain.com/) for [tracing](https://docs.smith.langchain.com/concepts/tracing)."
   ]
  },
  {
   "cell_type": "code",
   "execution_count": 5,
   "id": "74ef2ff0",
   "metadata": {},
   "outputs": [],
   "source": [
    "_set_env(\"LANGSMITH_API_KEY\")\n",
    "os.environ[\"LANGSMITH_TRACING\"] = \"true\"\n",
    "os.environ[\"LANGSMITH_PROJECT\"] = \"langchain-academy\""
   ]
  },
  {
   "cell_type": "markdown",
   "id": "9c5f123b-db5d-4816-a6a3-2e4247611512",
   "metadata": {},
   "source": [
    "This follows what we did previously."
   ]
  },
  {
   "cell_type": "code",
   "execution_count": 6,
   "id": "46647bbe-def5-4ea7-a315-1de8d97c8288",
   "metadata": {},
   "outputs": [],
   "source": [
    "from langchain_openai import ChatOpenAI"
   ]
  },
  {
   "cell_type": "code",
   "execution_count": 7,
   "id": "a9092b40-20c4-4872-b0ed-be1b53a15ef3",
   "metadata": {},
   "outputs": [],
   "source": [
    "from langgraph.graph import MessagesState\n",
    "from langchain_core.messages import HumanMessage, SystemMessage\n",
    "\n",
    "# System message\n",
    "llm = ChatOpenAI(model=\"gpt-4o\")\n"
   ]
  },
  {
   "cell_type": "code",
   "execution_count": 8,
   "id": "84419500-68c4-4d1d-8f33-0cdbb1eb249a",
   "metadata": {},
   "outputs": [],
   "source": [
    "# state classes init\n",
    "class AnalystManagerState(MessagesState):\n",
    "    ticker: str = \"\"\n",
    "    fundamental_analysis: str\n",
    "    technical_analysis: str"
   ]
  },
  {
   "cell_type": "code",
   "execution_count": null,
   "id": "fa3fca52-1945-4bba-9d9e-e41a891608e4",
   "metadata": {},
   "outputs": [],
   "source": []
  },
  {
   "cell_type": "code",
   "execution_count": null,
   "id": "d8d1ba9f-5691-4c11-8cfd-48f9ecbbd830",
   "metadata": {},
   "outputs": [],
   "source": [
    "fundamental_analyst_sys_msg = SystemMessage(content=\"\"\"You are a professional equity research analyst specializing in fundamental analysis.\n",
    "\n",
    "    You have access to comprehensive financial data including:\n",
    "    - 2 years of annual financial statements (income, balance sheet, cash flow)\n",
    "    - 2 quarters of recent quarterly data (income, balance sheet, cash flow, earnings)\n",
    "    - Financial ratios, key metrics, and enterprise values (both annual and quarterly)\n",
    "    - Company profile (sector, industry, market cap, description)\n",
    "\n",
    "    Your role is to analyze this comprehensive dataset to assess the stock's investment potential.\n",
    "\n",
    "    Your output must:\n",
    "    1. Provide a concise **summary** of the company's financial state based on both annual trends and recent quarterly performance.\n",
    "    2. Assess **growth potential** (strong / moderate / weak) with justification from both historical and recent data.\n",
    "    3. Assess **risk factors** (low / moderate / high) with justification from financial ratios and trends.\n",
    "    4. Evaluate whether the stock appears **undervalued, fairly valued, or overvalued** \n",
    "       relative to its sector and key financial metrics.\n",
    "    5. Mention notable strengths and weaknesses, highlighting any significant changes in recent quarters.\n",
    "    6. Output a **structured JSON object** with:\n",
    "       - \"growth_score\": {\"score\": 0-10, \"justification\": \"brief explanation\"},\n",
    "       - \"risk_score\": {\"score\": 0-10, \"justification\": \"brief explanation\"},\n",
    "       - \"summary\" (3–5 sentence human-readable summary),\n",
    "       - \"notes\" (key metrics and evidence in bullet points),\n",
    "       - \"strengths_and_weaknesses\": {\"strengths\": [\"list of strengths\"], \"weaknesses\": [\"list of weaknesses\"]}.\n",
    "\n",
    "    Keep your tone factual, objective, and professional. \n",
    "    Base your analysis strictly on the comprehensive financial data provided.\"\"\")\n",
    "\n",
    "# Node\n",
    "def fundamental_analyst(state: AnalystManagerState) -> AnalystManagerState:\n",
    "    \"\"\"Analyze fundamental data and populate the fundamental_analysis state\"\"\"\n",
    "\n",
    "    ticker = state[\"ticker\"]\n",
    "    # Get fundamental data\n",
    "    fundamental_data = \"\"\"{\n",
    "  \"growth_score\": {\n",
    "    \"score\": 8,\n",
    "    \"justification\": \"Tesla has shown strong revenue growth over years with increased investments in R&D and production capacity. Recent quarterly reports indicate continued revenue growth.\"\n",
    "  },\n",
    "  \"risk_score\": {\n",
    "    \"score\": 6,\n",
    "    \"justification\": \"Tesla has a high beta and relatively high debt-equity ratio, indicating moderate risk due to market volatility and financial leverage.\"\n",
    "  },\n",
    "  \"summary\": \"Tesla, Inc. continues to showcase strong growth potential with significant increases in revenue and strategic investments. Although profitability dipped in 2024, likely due to rising costs and market conditions, the company's substantial reinvestment in R&D and capacity suggests a strategic focus on long-term growth. Tesla's stock appears overvalued in terms of its high P/E and P/S ratios, though its leadership in electric vehicles and energy sectors may justify this premium for some investors.\",\n",
    "  \"notes\": [\n",
    "    \"Revenue grew to $97.69 billion in 2024, a slight increase from $96.77 billion in 2023.\",\n",
    "    \"Net income decreased significantly from $14.99 billion in 2023 to $7.13 billion in 2024 due to increased expenses and lower profit margins.\",\n",
    "    \"Current liquidity ratios improved with a current ratio of 2.02 (2024) vs. 1.72 (2023).\",\n",
    "    \"Enterprise value increased to $1.295 trillion in 2024 from $0.782 trillion in 2023.\",\n",
    "    \"P/E ratio soared to 181.98 in 2024, indicating overvaluation risk compared to peers.\"\n",
    "  ],\n",
    "  \"strengths_and_weaknesses\": {\n",
    "    \"strengths\": [\n",
    "      \"Leading market position in EV and energy storage sectors.\",\n",
    "      \"Consistent revenue growth with strategic reinvestment in R&D.\",\n",
    "      \"Strong liquidity position with increasing cash reserves.\"\n",
    "    ],\n",
    "    \"weaknesses\": [\n",
    "      \"High valuation ratios indicate potential overvaluation risk.\",\n",
    "      \"Fluctuating profitability with recent decline in net income.\",\n",
    "      \"High market volatility as reflected by a beta of 2.065.\"\n",
    "    ]\n",
    "  }\n",
    "}\n",
    "\"\"\"\n",
    "    \n",
    "    # Create analysis request\n",
    "    analysis_prompt = f\"\"\"\n",
    "    Analyze the following fundamental data for {ticker} and provide your assessment:\n",
    "    \n",
    "    {fundamental_data}\n",
    "    \n",
    "    Please provide your analysis in the exact JSON format specified in the system message.\n",
    "    \"\"\"\n",
    "    \n",
    "    # Get analysis from LLM\n",
    "    messages = [fundamental_analyst_sys_msg, HumanMessage(content=analysis_prompt)]\n",
    "    response = llm.invoke(messages)\n",
    "\n",
    "    return {\n",
    "      \"fundamental_analysis\": response.content\n",
    "    }\n",
    "    "
   ]
  },
  {
   "cell_type": "code",
   "execution_count": null,
   "id": "771123a3-91ac-4076-92c0-93bcd69cf048",
   "metadata": {},
   "outputs": [
    {
     "data": {
      "image/png": "[encoded data removed]",
      "text/plain": [
       "<IPython.core.display.Image object>"
      ]
     },
     "metadata": {},
     "output_type": "display_data"
    }
   ],
   "source": [
    "from langgraph.graph import END, START, StateGraph\n",
    "from langgraph.prebuilt import tools_condition, ToolNode\n",
    "from IPython.display import Image, display\n",
    "\n",
    "\n",
    "\n",
    "def state_initializer(state: MessagesState) -> AnalystManagerState:\n",
    "    \"\"\"Extract ticker from the input message string\"\"\"\n",
    "    \n",
    "    # System message for ticker extraction\n",
    "    ticker_extraction_msg = SystemMessage(content=\"\"\"You are a ticker extraction specialist. \n",
    "    Your job is to extract the stock ticker symbol from user messages.\n",
    "    \n",
    "    Rules:\n",
    "    - Look for 2-5 letter uppercase stock symbols (e.g., AAPL, TSLA, GOOGL, MSFT)\n",
    "    - The ticker might be in phrases like \"analyze AAPL\", \"TSLA stock\", \"look at GOOGL\"\n",
    "    - Only return the ticker symbol itself, nothing else\n",
    "    - If you can't find a clear ticker, return \"UNKNOWN\"\n",
    "    \n",
    "    Examples:\n",
    "    - \"analyze AAPL\" → AAPL\n",
    "    - \"I want to know about Tesla stock TSLA\" → TSLA  \n",
    "    - \"Can you analyze GOOGL for me?\" → GOOGL\n",
    "    - \"What about MSFT?\" → MSFT\n",
    "    \"\"\")\n",
    "\n",
    "    response = llm.invoke([ticker_extraction_msg] + state[\"messages\"]);\n",
    "\n",
    "    return {\n",
    "            \"ticker\": response.content\n",
    "           }\n",
    "    \n",
    "    \n",
    "\n",
    "# Graph\n",
    "builder = StateGraph(AnalystManagerState, input_schema=MessagesState)\n",
    "\n",
    "builder.add_node(\"state_initializer\", state_initializer)\n",
    "builder.add_node(\"fundamental_analyst\", fundamental_analyst)\n",
    "builder.add_edge(START, \"state_initializer\")\n",
    "builder.add_edge(\"state_initializer\", \"fundamental_analyst\")\n",
    "builder.add_edge(\"fundamental_analyst\", END)\n",
    "\n",
    "graph = builder.compile()\n",
    "\n",
    "# Show\n",
    "display(Image(graph.get_graph(xray=True).draw_mermaid_png()))"
   ]
  },
  {
   "cell_type": "markdown",
   "id": "e830b7ae-3673-4cc6-8627-4740b7b8b217",
   "metadata": {},
   "source": [
    "## Memory\n",
    "\n",
    "Let's run our agent, as before."
   ]
  },
  {
   "cell_type": "code",
   "execution_count": 16,
   "id": "596a71a0-1337-44d4-971d-f80c367bd868",
   "metadata": {},
   "outputs": [
    {
     "data": {
      "text/plain": [
       "{'messages': [HumanMessage(content='Look at NVDA', additional_kwargs={}, response_metadata={}, id='1b3fa72c-18d2-4a15-a3b2-c173a004c772'),\n",
       "  AIMessage(content='NVDA', additional_kwargs={'refusal': None}, response_metadata={'token_usage': {'completion_tokens': 2, 'prompt_tokens': 184, 'total_tokens': 186, 'completion_tokens_details': {'accepted_prediction_tokens': 0, 'audio_tokens': 0, 'reasoning_tokens': 0, 'rejected_prediction_tokens': 0}, 'prompt_tokens_details': {'audio_tokens': 0, 'cached_tokens': 0}}, 'model_name': 'gpt-4o-2024-08-06', 'system_fingerprint': 'fp_cbf1785567', 'id': 'chatcmpl-CH7daU3JmbCH9IVuCH4LfixNtZsYH', 'service_tier': 'default', 'finish_reason': 'stop', 'logprobs': None}, id='run--0faf0d47-e154-4c45-a7e7-07017799d86e-0', usage_metadata={'input_tokens': 184, 'output_tokens': 2, 'total_tokens': 186, 'input_token_details': {'audio': 0, 'cache_read': 0}, 'output_token_details': {'audio': 0, 'reasoning': 0}}),\n",
       "  AIMessage(content='```json\\n{\\n  \"growth_score\": {\\n    \"score\": 8,\\n    \"justification\": \"Tesla has shown strong revenue growth over years with increased investments in R&D and production capacity. Recent quarterly reports indicate continued revenue growth.\"\\n  },\\n  \"risk_score\": {\\n    \"score\": 6,\\n    \"justification\": \"Tesla has a high beta and relatively high debt-equity ratio, indicating moderate risk due to market volatility and financial leverage.\"\\n  },\\n  \"summary\": \"Tesla, Inc. continues to showcase strong growth potential with significant increases in revenue and strategic investments. Although profitability dipped in 2024, likely due to rising costs and market conditions, the company\\'s substantial reinvestment in R&D and capacity suggests a strategic focus on long-term growth. Tesla\\'s stock appears overvalued in terms of its high P/E and P/S ratios, though its leadership in electric vehicles and energy sectors may justify this premium for some investors.\",\\n  \"notes\": [\\n    \"Revenue grew to $97.69 billion in 2024, a slight increase from $96.77 billion in 2023.\",\\n    \"Net income decreased significantly from $14.99 billion in 2023 to $7.13 billion in 2024 due to increased expenses and lower profit margins.\",\\n    \"Current liquidity ratios improved with a current ratio of 2.02 (2024) vs. 1.72 (2023).\",\\n    \"Enterprise value increased to $1.295 trillion in 2024 from $0.782 trillion in 2023.\",\\n    \"P/E ratio soared to 181.98 in 2024, indicating overvaluation risk compared to peers.\"\\n  ],\\n  \"strengths_and_weaknesses\": {\\n    \"strengths\": [\\n      \"Leading market position in EV and energy storage sectors.\",\\n      \"Consistent revenue growth with strategic reinvestment in R&D.\",\\n      \"Strong liquidity position with increasing cash reserves.\"\\n    ],\\n    \"weaknesses\": [\\n      \"High valuation ratios indicate potential overvaluation risk.\",\\n      \"Fluctuating profitability with recent decline in net income.\",\\n      \"High market volatility as reflected by a beta of 2.065.\"\\n    ]\\n  }\\n}\\n```', additional_kwargs={'refusal': None}, response_metadata={'token_usage': {'completion_tokens': 453, 'prompt_tokens': 871, 'total_tokens': 1324, 'completion_tokens_details': {'accepted_prediction_tokens': 0, 'audio_tokens': 0, 'reasoning_tokens': 0, 'rejected_prediction_tokens': 0}, 'prompt_tokens_details': {'audio_tokens': 0, 'cached_tokens': 0}}, 'model_name': 'gpt-4o-2024-08-06', 'system_fingerprint': 'fp_f33640a400', 'id': 'chatcmpl-CH7dbUiVpE1nthk2EI8MN1pLYYmVS', 'service_tier': 'default', 'finish_reason': 'stop', 'logprobs': None}, id='run--54028113-04f4-442a-b049-a59f9ec6a75f-0', usage_metadata={'input_tokens': 871, 'output_tokens': 453, 'total_tokens': 1324, 'input_token_details': {'audio': 0, 'cache_read': 0}, 'output_token_details': {'audio': 0, 'reasoning': 0}})],\n",
       " 'ticker': 'A',\n",
       " 'fundamental_analysis': '```json\\n{\\n  \"growth_score\": {\\n    \"score\": 8,\\n    \"justification\": \"Tesla has shown strong revenue growth over years with increased investments in R&D and production capacity. Recent quarterly reports indicate continued revenue growth.\"\\n  },\\n  \"risk_score\": {\\n    \"score\": 6,\\n    \"justification\": \"Tesla has a high beta and relatively high debt-equity ratio, indicating moderate risk due to market volatility and financial leverage.\"\\n  },\\n  \"summary\": \"Tesla, Inc. continues to showcase strong growth potential with significant increases in revenue and strategic investments. Although profitability dipped in 2024, likely due to rising costs and market conditions, the company\\'s substantial reinvestment in R&D and capacity suggests a strategic focus on long-term growth. Tesla\\'s stock appears overvalued in terms of its high P/E and P/S ratios, though its leadership in electric vehicles and energy sectors may justify this premium for some investors.\",\\n  \"notes\": [\\n    \"Revenue grew to $97.69 billion in 2024, a slight increase from $96.77 billion in 2023.\",\\n    \"Net income decreased significantly from $14.99 billion in 2023 to $7.13 billion in 2024 due to increased expenses and lower profit margins.\",\\n    \"Current liquidity ratios improved with a current ratio of 2.02 (2024) vs. 1.72 (2023).\",\\n    \"Enterprise value increased to $1.295 trillion in 2024 from $0.782 trillion in 2023.\",\\n    \"P/E ratio soared to 181.98 in 2024, indicating overvaluation risk compared to peers.\"\\n  ],\\n  \"strengths_and_weaknesses\": {\\n    \"strengths\": [\\n      \"Leading market position in EV and energy storage sectors.\",\\n      \"Consistent revenue growth with strategic reinvestment in R&D.\",\\n      \"Strong liquidity position with increasing cash reserves.\"\\n    ],\\n    \"weaknesses\": [\\n      \"High valuation ratios indicate potential overvaluation risk.\",\\n      \"Fluctuating profitability with recent decline in net income.\",\\n      \"High market volatility as reflected by a beta of 2.065.\"\\n    ]\\n  }\\n}\\n```'}"
      ]
     },
     "execution_count": 16,
     "metadata": {},
     "output_type": "execute_result"
    }
   ],
   "source": [
    "messages = [HumanMessage(content=\"Look at NVDA\")]\n",
    "messages = graph.invoke({\"messages\": messages})\n",
    "\n",
    "# for m in messages['messages']:\n",
    "#     m.pretty_print()\n",
    "\n",
    "messages"
   ]
  },
  {
   "cell_type": "code",
   "execution_count": 17,
   "id": "4ab61bd6-b44e-4f2b-96ef-e0d220a8bf33",
   "metadata": {},
   "outputs": [
    {
     "data": {
      "text/plain": [
       "'A'"
      ]
     },
     "execution_count": 17,
     "metadata": {},
     "output_type": "execute_result"
    }
   ],
   "source": [
    "messages['ticker']\n"
   ]
  },
  {
   "cell_type": "code",
   "execution_count": 10,
   "id": "b41cc1d7-e6de-4d86-8958-8cf7446f4c22",
   "metadata": {},
   "outputs": [
    {
     "name": "stdout",
     "output_type": "stream",
     "text": [
      "================================\u001b[1m Human Message \u001b[0m=================================\n",
      "\n",
      "Multiply that by 2.\n",
      "==================================\u001b[1m Ai Message \u001b[0m==================================\n",
      "\n",
      "It seems like you're requesting a multiplication operation, but I don't have the number you want to multiply by 2. Could you please provide the number?\n"
     ]
    }
   ],
   "source": [
    "messages = [HumanMessage(content=\"Multiply that by 2.\")]\n",
    "messages = react_graph.invoke({\"messages\": messages})\n",
    "for m in messages['messages']:\n",
    "    m.pretty_print()"
   ]
  },
  {
   "cell_type": "markdown",
   "id": "26e65f3c-e1dc-4a62-b8ab-02b33a6ff268",
   "metadata": {},
   "source": [
    "We don't retain memory of 7 from our initial chat!\n",
    "\n",
    "This is because [state is transient](https://github.com/langchain-ai/langgraph/discussions/352#discussioncomment-9291220) to a single graph execution.\n",
    "\n",
    "Of course, this limits our ability to have multi-turn conversations with interruptions. \n",
    "\n",
    "We can use [persistence](https://langchain-ai.github.io/langgraph/how-tos/persistence/) to address this! \n",
    "\n",
    "LangGraph can use a checkpointer to automatically save the graph state after each step.\n",
    "\n",
    "This built-in persistence layer gives us memory, allowing LangGraph to pick up from the last state update. \n",
    "\n",
    "One of the easiest checkpointers to use is the `MemorySaver`, an in-memory key-value store for Graph state.\n",
    "\n",
    "All we need to do is simply compile the graph with a checkpointer, and our graph has memory!"
   ]
  },
  {
   "cell_type": "code",
   "execution_count": 11,
   "id": "637fcd79-3896-42e4-9131-e03b123a0a90",
   "metadata": {},
   "outputs": [],
   "source": [
    "from langgraph.checkpoint.memory import MemorySaver\n",
    "memory = MemorySaver()\n",
    "react_graph_memory = builder.compile(checkpointer=memory)"
   ]
  },
  {
   "attachments": {},
   "cell_type": "markdown",
   "id": "ff8fc3bf-3999-47cb-af34-06b2b94d7192",
   "metadata": {},
   "source": [
    "When we use memory, we need to specify a `thread_id`.\n",
    "\n",
    "This `thread_id` will store our collection of graph states.\n",
    "\n",
    "Here is a cartoon:\n",
    "\n",
    "* The checkpointer write the state at every step of the graph\n",
    "* These checkpoints are saved in a thread \n",
    "* We can access that thread in the future using the `thread_id`\n",
    "\n",
    "![state.jpg](https://cdn.prod.website-files.com/65b8cd72835ceeacd4449a53/66e0e9f526b41a4ed9e2d28b_agent-memory2.png)\n"
   ]
  },
  {
   "cell_type": "code",
   "execution_count": 12,
   "id": "f722a1d6-e73c-4023-86ed-8b07d392278d",
   "metadata": {},
   "outputs": [
    {
     "name": "stdout",
     "output_type": "stream",
     "text": [
      "================================\u001b[1m Human Message \u001b[0m=================================\n",
      "\n",
      "Add 3 and 4.\n",
      "==================================\u001b[1m Ai Message \u001b[0m==================================\n",
      "Tool Calls:\n",
      "  add (call_UkSLfYoWxOxAg5A0tbJ6VuYR)\n",
      " Call ID: call_UkSLfYoWxOxAg5A0tbJ6VuYR\n",
      "  Args:\n",
      "    a: 3\n",
      "    b: 4\n",
      "=================================\u001b[1m Tool Message \u001b[0m=================================\n",
      "Name: add\n",
      "\n",
      "7\n",
      "==================================\u001b[1m Ai Message \u001b[0m==================================\n",
      "\n",
      "The sum of 3 and 4 is 7.\n"
     ]
    }
   ],
   "source": [
    "# Specify a thread\n",
    "config = {\"configurable\": {\"thread_id\": \"1\"}}\n",
    "\n",
    "# Specify an input\n",
    "messages = [HumanMessage(content=\"Add 3 and 4.\")]\n",
    "\n",
    "# Run\n",
    "messages = react_graph_memory.invoke({\"messages\": messages},config)\n",
    "for m in messages['messages']:\n",
    "    m.pretty_print()"
   ]
  },
  {
   "cell_type": "markdown",
   "id": "c91a8a16-6bf1-48e2-a889-ae04a37c7a2b",
   "metadata": {},
   "source": [
    "If we pass the same `thread_id`, then we can proceed from from the previously logged state checkpoint! \n",
    "\n",
    "In this case, the above conversation is captured in the thread.\n",
    "\n",
    "The `HumanMessage` we pass (`\"Multiply that by 2.\"`) is appended to the above conversation.\n",
    "\n",
    "So, the model now know that `that` refers to the `The sum of 3 and 4 is 7.`."
   ]
  },
  {
   "cell_type": "code",
   "execution_count": 13,
   "id": "ee38c6ef-8bfb-4c66-9214-6f474c9b8451",
   "metadata": {},
   "outputs": [
    {
     "name": "stdout",
     "output_type": "stream",
     "text": [
      "================================\u001b[1m Human Message \u001b[0m=================================\n",
      "\n",
      "Add 3 and 4.\n",
      "==================================\u001b[1m Ai Message \u001b[0m==================================\n",
      "Tool Calls:\n",
      "  add (call_UkSLfYoWxOxAg5A0tbJ6VuYR)\n",
      " Call ID: call_UkSLfYoWxOxAg5A0tbJ6VuYR\n",
      "  Args:\n",
      "    a: 3\n",
      "    b: 4\n",
      "=================================\u001b[1m Tool Message \u001b[0m=================================\n",
      "Name: add\n",
      "\n",
      "7\n",
      "==================================\u001b[1m Ai Message \u001b[0m==================================\n",
      "\n",
      "The sum of 3 and 4 is 7.\n",
      "================================\u001b[1m Human Message \u001b[0m=================================\n",
      "\n",
      "Multiply that by 2.\n",
      "==================================\u001b[1m Ai Message \u001b[0m==================================\n",
      "Tool Calls:\n",
      "  multiply (call_6x9lE2gLEoEvutS2bLfizcBT)\n",
      " Call ID: call_6x9lE2gLEoEvutS2bLfizcBT\n",
      "  Args:\n",
      "    a: 7\n",
      "    b: 2\n",
      "=================================\u001b[1m Tool Message \u001b[0m=================================\n",
      "Name: multiply\n",
      "\n",
      "14\n",
      "==================================\u001b[1m Ai Message \u001b[0m==================================\n",
      "\n",
      "The result of multiplying 7 by 2 is 14.\n"
     ]
    }
   ],
   "source": [
    "messages = [HumanMessage(content=\"Multiply that by 2.\")]\n",
    "messages = react_graph_memory.invoke({\"messages\": messages}, config)\n",
    "for m in messages['messages']:\n",
    "    m.pretty_print()"
   ]
  },
  {
   "cell_type": "markdown",
   "id": "c4b7774e-566f-4c92-9429-ed953bcacaa5",
   "metadata": {},
   "source": [
    "## LangGraph Studio\n",
    "\n",
    "\n",
    "**⚠️ DISCLAIMER**\n",
    "\n",
    "Since the filming of these videos, we've updated Studio so that it can be run locally and opened in your browser. This is now the preferred way to run Studio (rather than using the Desktop App as shown in the video). See documentation [here](https://langchain-ai.github.io/langgraph/concepts/langgraph_studio/#local-development-server) on the local development server and [here](https://langchain-ai.github.io/langgraph/how-tos/local-studio/#run-the-development-server). To start the local development server, run the following command in your terminal in the `module-1/studio/` directory in this module:\n",
    "\n",
    "```\n",
    "langgraph dev\n",
    "```"
   ]
  },
  {
   "cell_type": "code",
   "execution_count": null,
   "id": "6d72986c-ff6f-4f81-b585-d268e2710e53",
   "metadata": {},
   "outputs": [],
   "source": []
  }
 ],
 "metadata": {
  "kernelspec": {
   "display_name": "Python 3 (ipykernel)",
   "language": "python",
   "name": "python3"
  },
  "language_info": {
   "codemirror_mode": {
    "name": "ipython",
    "version": 3
   },
   "file_extension": ".py",
   "mimetype": "text/x-python",
   "name": "python",
   "nbconvert_exporter": "python",
   "pygments_lexer": "ipython3",
   "version": "3.13.7"
  }
 },
 "nbformat": 4,
 "nbformat_minor": 5
}
